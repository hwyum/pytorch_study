{
 "cells": [
  {
   "cell_type": "markdown",
   "metadata": {
    "id": "1OZjxqxq9Lbv",
    "colab_type": "text"
   },
   "source": [
    "## Setting"
   ]
  },
  {
   "cell_type": "code",
   "execution_count": 173,
   "metadata": {
    "id": "aheyWMcA9M8q",
    "colab_type": "code",
    "outputId": "5f90fc0d-04b2-4968-dc30-877d2227c77c",
    "executionInfo": {
     "status": "ok",
     "timestamp": 1.552388394386E12,
     "user_tz": -540.0,
     "elapsed": 847.0,
     "user": {
      "displayName": "Haewon Yum",
      "photoUrl": "https://lh4.googleusercontent.com/-66WH9ykN6uo/AAAAAAAAAAI/AAAAAAAAItI/6gce5ZtJfvU/s64/photo.jpg",
      "userId": "05072194384345279458"
     }
    },
    "colab": {
     "base_uri": "https://localhost:8080/",
     "height": 54.0
    }
   },
   "outputs": [
    {
     "name": "stdout",
     "output_type": "stream",
     "text": [
      "Drive already mounted at /gdrive; to attempt to forcibly remount, call drive.mount(\"/gdrive\", force_remount=True).\n"
     ]
    }
   ],
   "source": [
    "from google.colab import drive\n",
    "drive.mount('/gdrive')"
   ]
  },
  {
   "cell_type": "code",
   "execution_count": 0,
   "metadata": {
    "id": "IPu4nYJM9RAj",
    "colab_type": "code",
    "colab": {}
   },
   "outputs": [],
   "source": [
    "import os\n",
    "os.chdir('/gdrive/My Drive/Colab Notebooks/Pytorch_study')"
   ]
  },
  {
   "cell_type": "code",
   "execution_count": 0,
   "metadata": {
    "id": "AzI8VxB09Tof",
    "colab_type": "code",
    "colab": {}
   },
   "outputs": [],
   "source": [
    "%matplotlib inline"
   ]
  },
  {
   "cell_type": "code",
   "execution_count": 176,
   "metadata": {
    "id": "13oOzdTU-B-e",
    "colab_type": "code",
    "outputId": "84f101c8-93bc-403d-b65f-141b38d50f31",
    "executionInfo": {
     "status": "ok",
     "timestamp": 1.552388401794E12,
     "user_tz": -540.0,
     "elapsed": 2966.0,
     "user": {
      "displayName": "Haewon Yum",
      "photoUrl": "https://lh4.googleusercontent.com/-66WH9ykN6uo/AAAAAAAAAAI/AAAAAAAAItI/6gce5ZtJfvU/s64/photo.jpg",
      "userId": "05072194384345279458"
     }
    },
    "colab": {
     "base_uri": "https://localhost:8080/",
     "height": 51.0
    }
   },
   "outputs": [
    {
     "name": "stdout",
     "output_type": "stream",
     "text": [
      "batches.meta  data_batch_2  data_batch_4  readme.html\n",
      "data_batch_1  data_batch_3  data_batch_5  test_batch\n"
     ]
    }
   ],
   "source": [
    "!ls data/cifar-10-batches-py"
   ]
  },
  {
   "cell_type": "code",
   "execution_count": 0,
   "metadata": {
    "id": "BHJ4xTtN_J4B",
    "colab_type": "code",
    "colab": {}
   },
   "outputs": [],
   "source": [
    "import os\n",
    "import torch\n",
    "import pandas as pd\n",
    "import numpy as np\n",
    "import matplotlib.pyplot as plt\n",
    "from skimage import io, transform\n",
    "from torch.utils.data import Dataset, DataLoader, ConcatDataset\n",
    "from torchvision import transforms, utils\n",
    "\n",
    "from torch import nn\n",
    "import torch.nn.functional as F\n",
    "from torch import optim\n",
    "\n"
   ]
  },
  {
   "cell_type": "markdown",
   "metadata": {
    "id": "3luQShSZmcOn",
    "colab_type": "text"
   },
   "source": [
    "# Data Load"
   ]
  },
  {
   "cell_type": "code",
   "execution_count": 0,
   "metadata": {
    "id": "nGRPlqg69WD4",
    "colab_type": "code",
    "colab": {}
   },
   "outputs": [],
   "source": [
    "def unpickle(file):\n",
    "    import pickle\n",
    "    with open(file, 'rb') as fo:\n",
    "        dict = pickle.load(fo, encoding='bytes')\n",
    "    return dict"
   ]
  },
  {
   "cell_type": "code",
   "execution_count": 0,
   "metadata": {
    "id": "_cBB-wyN9boy",
    "colab_type": "code",
    "colab": {}
   },
   "outputs": [],
   "source": [
    "path = './data/cifar-10-batches-py/'\n",
    "path = os.path.join(path, 'data_batch_1')\n",
    "\n",
    "batch1 = unpickle(path)"
   ]
  },
  {
   "cell_type": "code",
   "execution_count": 180,
   "metadata": {
    "id": "ipGK1JfT3Azv",
    "colab_type": "code",
    "outputId": "181d8021-4a58-4572-960d-b118d1d38dbd",
    "executionInfo": {
     "status": "ok",
     "timestamp": 1.552388403577E12,
     "user_tz": -540.0,
     "elapsed": 556.0,
     "user": {
      "displayName": "Haewon Yum",
      "photoUrl": "https://lh4.googleusercontent.com/-66WH9ykN6uo/AAAAAAAAAAI/AAAAAAAAItI/6gce5ZtJfvU/s64/photo.jpg",
      "userId": "05072194384345279458"
     }
    },
    "colab": {
     "base_uri": "https://localhost:8080/",
     "height": 34.0
    }
   },
   "outputs": [
    {
     "data": {
      "text/plain": [
       "10000"
      ]
     },
     "execution_count": 180,
     "metadata": {
      "tags": []
     },
     "output_type": "execute_result"
    }
   ],
   "source": [
    "len(batch1[b'data'])"
   ]
  },
  {
   "cell_type": "code",
   "execution_count": 181,
   "metadata": {
    "id": "tvUoJJyIABfy",
    "colab_type": "code",
    "outputId": "919c3622-6f62-49e4-f5f6-29e415df6c30",
    "executionInfo": {
     "status": "ok",
     "timestamp": 1.552388409324E12,
     "user_tz": -540.0,
     "elapsed": 2125.0,
     "user": {
      "displayName": "Haewon Yum",
      "photoUrl": "https://lh4.googleusercontent.com/-66WH9ykN6uo/AAAAAAAAAAI/AAAAAAAAItI/6gce5ZtJfvU/s64/photo.jpg",
      "userId": "05072194384345279458"
     }
    },
    "colab": {
     "base_uri": "https://localhost:8080/",
     "height": 215.0
    }
   },
   "outputs": [
    {
     "data": {
      "image/png": "[encoded data removed]",
      "text/plain": [
       "<Figure size 216x216 with 25 Axes>"
      ]
     },
     "metadata": {
      "tags": []
     },
     "output_type": "display_data"
    }
   ],
   "source": [
    "X = batch1[b\"data\"] \n",
    "Y = batch1[b'labels']\n",
    "X = X.reshape(10000, 3, 32, 32).transpose(0,2,3,1).astype(\"uint8\")\n",
    "Y = np.array(Y)\n",
    "\n",
    "#Visualizing CIFAR 10\n",
    "fig, axes1 = plt.subplots(5,5,figsize=(3,3))\n",
    "for j in range(5):\n",
    "    for k in range(5):\n",
    "        i = np.random.choice(range(len(X)))\n",
    "        axes1[j][k].set_axis_off()\n",
    "        axes1[j][k].imshow(X[i:i+1][0], interpolation='nearest')\n"
   ]
  },
  {
   "cell_type": "code",
   "execution_count": 182,
   "metadata": {
    "id": "Sj5afyucnos7",
    "colab_type": "code",
    "outputId": "7d1fc26b-174d-4db3-9608-279c2c374cbe",
    "executionInfo": {
     "status": "ok",
     "timestamp": 1.552388410391E12,
     "user_tz": -540.0,
     "elapsed": 928.0,
     "user": {
      "displayName": "Haewon Yum",
      "photoUrl": "https://lh4.googleusercontent.com/-66WH9ykN6uo/AAAAAAAAAAI/AAAAAAAAItI/6gce5ZtJfvU/s64/photo.jpg",
      "userId": "05072194384345279458"
     }
    },
    "colab": {
     "base_uri": "https://localhost:8080/",
     "height": 187.0
    }
   },
   "outputs": [
    {
     "data": {
      "text/plain": [
       "[b'airplane',\n",
       " b'automobile',\n",
       " b'bird',\n",
       " b'cat',\n",
       " b'deer',\n",
       " b'dog',\n",
       " b'frog',\n",
       " b'horse',\n",
       " b'ship',\n",
       " b'truck']"
      ]
     },
     "execution_count": 182,
     "metadata": {
      "tags": []
     },
     "output_type": "execute_result"
    }
   ],
   "source": [
    "# label names\n",
    "path = './data/cifar-10-batches-py/batches.meta'\n",
    "label_name = unpickle(path)\n",
    "label_name[b'label_names']"
   ]
  },
  {
   "cell_type": "markdown",
   "metadata": {
    "id": "GX46AvQUmlAM",
    "colab_type": "text"
   },
   "source": [
    "## Dataset Class"
   ]
  },
  {
   "cell_type": "code",
   "execution_count": 0,
   "metadata": {
    "id": "bgib472DA7L9",
    "colab_type": "code",
    "colab": {}
   },
   "outputs": [],
   "source": [
    "class cf10_dataset(Dataset):\n",
    "    \"\"\"cifar10 dataset.\"\"\"\n",
    "    def __init__(self, batch_name, transform=None):\n",
    "        \"\"\"\n",
    "        Args:\n",
    "            batch_name (string): batch file name\n",
    "            transform (callable, optional): Optional transform to be applied\n",
    "                on a sample.\n",
    "        \"\"\"\n",
    "        path = './data/cifar-10-batches-py/'\n",
    "        \n",
    "        path = os.path.join(path, batch_name)\n",
    "        self.batch = unpickle(path)                            \n",
    "        self.transform = transform\n",
    "        \n",
    "    def __len__(self):\n",
    "        return len(self.batch[b'data'])\n",
    "    \n",
    "    def __getitem__(self, idx):\n",
    "        image = self.batch[b'data'].reshape(10000, 3, 32, 32).transpose(0,2,3,1).astype(\"uint8\")[idx]\n",
    "        label = np.array(self.batch[b'labels'])[idx]\n",
    "        sample = (image, label)\n",
    "\n",
    "        if self.transform:\n",
    "            sample = self.transform(sample)\n",
    "\n",
    "        return sample"
   ]
  },
  {
   "cell_type": "code",
   "execution_count": 185,
   "metadata": {
    "id": "E8Z0libckeQC",
    "colab_type": "code",
    "outputId": "eef51622-3cd1-4dab-ac4d-8e7499efdfde",
    "executionInfo": {
     "status": "ok",
     "timestamp": 1.552388440018E12,
     "user_tz": -540.0,
     "elapsed": 797.0,
     "user": {
      "displayName": "Haewon Yum",
      "photoUrl": "https://lh4.googleusercontent.com/-66WH9ykN6uo/AAAAAAAAAAI/AAAAAAAAItI/6gce5ZtJfvU/s64/photo.jpg",
      "userId": "05072194384345279458"
     }
    },
    "colab": {
     "base_uri": "https://localhost:8080/",
     "height": 283.0
    }
   },
   "outputs": [
    {
     "name": "stdout",
     "output_type": "stream",
     "text": [
      "4\n"
     ]
    },
    {
     "data": {
      "image/png": "[encoded data removed]",
      "text/plain": [
       "<Figure size 432x288 with 1 Axes>"
      ]
     },
     "metadata": {
      "tags": []
     },
     "output_type": "display_data"
    }
   ],
   "source": [
    "# image 확인\n",
    "dataset = cf10_dataset('data_batch_1')\n",
    "item = dataset.__getitem__(3)\n",
    "\n",
    "plt.imshow(item[0], interpolation='nearest')\n",
    "print(item[1])"
   ]
  },
  {
   "cell_type": "markdown",
   "metadata": {
    "id": "zfarSYMm0ewa",
    "colab_type": "text"
   },
   "source": [
    "## Transforms"
   ]
  },
  {
   "cell_type": "code",
   "execution_count": 0,
   "metadata": {
    "id": "srHPs0phzmLf",
    "colab_type": "code",
    "colab": {}
   },
   "outputs": [],
   "source": [
    "class ToTensor(object):\n",
    "    \"\"\"Convert ndarrays in sample to Tensors.\"\"\"\n",
    "\n",
    "    def __call__(self, sample):\n",
    "        image, label = sample\n",
    "\n",
    "        # swap color axis because\n",
    "        # numpy image: H x W x C\n",
    "        # torch image: C X H X W\n",
    "        image = image.transpose((2, 0, 1))\n",
    "        return (torch.from_numpy(image).float(), label)"
   ]
  },
  {
   "cell_type": "markdown",
   "metadata": {
    "id": "r_9Y6u9k7JNL",
    "colab_type": "text"
   },
   "source": [
    "## Torchvision 사용하는 경우"
   ]
  },
  {
   "cell_type": "code",
   "execution_count": 0,
   "metadata": {
    "id": "fIsCab-K7IV9",
    "colab_type": "code",
    "outputId": "e5a2ec9a-098c-4fdd-9937-87930e4e0f37",
    "executionInfo": {
     "status": "ok",
     "timestamp": 1.552378199191E12,
     "user_tz": -540.0,
     "elapsed": 3671.0,
     "user": {
      "displayName": "Haewon Yum",
      "photoUrl": "https://lh4.googleusercontent.com/-66WH9ykN6uo/AAAAAAAAAAI/AAAAAAAAItI/6gce5ZtJfvU/s64/photo.jpg",
      "userId": "05072194384345279458"
     }
    },
    "colab": {
     "base_uri": "https://localhost:8080/",
     "height": 53.0
    }
   },
   "outputs": [
    {
     "name": "stdout",
     "output_type": "stream",
     "text": [
      "Files already downloaded and verified\n",
      "Files already downloaded and verified\n"
     ]
    }
   ],
   "source": [
    "import torchvision\n",
    "import torchvision.transforms as transforms\n",
    "\n",
    "\n",
    "transform = transforms.Compose(\n",
    "    [transforms.ToTensor(),\n",
    "     transforms.Normalize((0.5, 0.5, 0.5), (0.5, 0.5, 0.5))])\n",
    "\n",
    "trainset = torchvision.datasets.CIFAR10(root='./data', train=True,\n",
    "                                        download=True, transform=transform)\n",
    "trainloader = torch.utils.data.DataLoader(trainset, batch_size=4,\n",
    "                                          shuffle=True, num_workers=2)\n",
    "\n",
    "testset = torchvision.datasets.CIFAR10(root='./data', train=False,\n",
    "                                       download=True, transform=transform)\n",
    "testloader = torch.utils.data.DataLoader(testset, batch_size=4,\n",
    "                                         shuffle=False, num_workers=2)"
   ]
  },
  {
   "cell_type": "code",
   "execution_count": 0,
   "metadata": {
    "id": "1g_AAIDZ7Ryi",
    "colab_type": "code",
    "outputId": "c8c6aa27-1b9b-46f7-8347-530866a81a6c",
    "executionInfo": {
     "status": "ok",
     "timestamp": 1.552377837752E12,
     "user_tz": -540.0,
     "elapsed": 655.0,
     "user": {
      "displayName": "Haewon Yum",
      "photoUrl": "https://lh4.googleusercontent.com/-66WH9ykN6uo/AAAAAAAAAAI/AAAAAAAAItI/6gce5ZtJfvU/s64/photo.jpg",
      "userId": "05072194384345279458"
     }
    },
    "colab": {
     "base_uri": "https://localhost:8080/",
     "height": 431.0
    }
   },
   "outputs": [
    {
     "data": {
      "text/plain": [
       "(tensor([[[-0.5373, -0.6627, -0.6078,  ...,  0.2392,  0.1922,  0.1608],\n",
       "          [-0.8745, -1.0000, -0.8588,  ..., -0.0353, -0.0667, -0.0431],\n",
       "          [-0.8039, -0.8745, -0.6157,  ..., -0.0745, -0.0588, -0.1451],\n",
       "          ...,\n",
       "          [ 0.6314,  0.5765,  0.5529,  ...,  0.2549, -0.5608, -0.5843],\n",
       "          [ 0.4118,  0.3569,  0.4588,  ...,  0.4431, -0.2392, -0.3490],\n",
       "          [ 0.3882,  0.3176,  0.4039,  ...,  0.6941,  0.1843, -0.0353]],\n",
       " \n",
       "         [[-0.5137, -0.6392, -0.6235,  ...,  0.0353, -0.0196, -0.0275],\n",
       "          [-0.8431, -1.0000, -0.9373,  ..., -0.3098, -0.3490, -0.3176],\n",
       "          [-0.8118, -0.9451, -0.7882,  ..., -0.3412, -0.3412, -0.4275],\n",
       "          ...,\n",
       "          [ 0.3333,  0.2000,  0.2627,  ...,  0.0431, -0.7569, -0.7333],\n",
       "          [ 0.0902, -0.0353,  0.1294,  ...,  0.1608, -0.5137, -0.5843],\n",
       "          [ 0.1294,  0.0118,  0.1137,  ...,  0.4431, -0.0745, -0.2784]],\n",
       " \n",
       "         [[-0.5059, -0.6471, -0.6627,  ..., -0.1529, -0.2000, -0.1922],\n",
       "          [-0.8431, -1.0000, -1.0000,  ..., -0.5686, -0.6078, -0.5529],\n",
       "          [-0.8353, -1.0000, -0.9373,  ..., -0.6078, -0.6078, -0.6706],\n",
       "          ...,\n",
       "          [-0.2471, -0.7333, -0.7961,  ..., -0.4510, -0.9451, -0.8431],\n",
       "          [-0.2471, -0.6706, -0.7647,  ..., -0.2627, -0.7333, -0.7333],\n",
       "          [-0.0902, -0.2627, -0.3176,  ...,  0.0980, -0.3412, -0.4353]]]), 6)"
      ]
     },
     "execution_count": 93,
     "metadata": {
      "tags": []
     },
     "output_type": "execute_result"
    }
   ],
   "source": [
    "trainset.__getitem__(0)"
   ]
  },
  {
   "cell_type": "markdown",
   "metadata": {
    "id": "oyT58ncEmoC8",
    "colab_type": "text"
   },
   "source": [
    "# Model"
   ]
  },
  {
   "cell_type": "markdown",
   "metadata": {
    "id": "5gqsRd34mq6y",
    "colab_type": "text"
   },
   "source": [
    "## CNN Model Class"
   ]
  },
  {
   "cell_type": "code",
   "execution_count": 0,
   "metadata": {
    "id": "w2tCKI1DmX2B",
    "colab_type": "code",
    "colab": {}
   },
   "outputs": [],
   "source": [
    "class cf10_cnn(nn.Module):\n",
    "    def __init__(self):\n",
    "        super().__init__()\n",
    "        # torch.nn.Conv2d(in_channels, out_channels, kernel_size, stride, padding) \n",
    "        self.conv1 = nn.Conv2d(3, 18, kernel_size=3, stride=1, padding=1) # (32-3+2)/1+1 = 32\n",
    "        self.conv2 = nn.Conv2d(18,18, kernel_size=3, stride=1, padding=1) # (32-3+2)/1+1 = 32\n",
    "        self.conv3 = nn.Conv2d(18,10, kernel_size=3, stride=1, padding=1)\n",
    "        self.pool = nn.MaxPool2d(kernel_size=2, stride=2)\n",
    "        self.fc1 = nn.Linear(10*16*16, 10)\n",
    "       \n",
    "        \n",
    "    def forward(self, xb):\n",
    "#         print(xb)\n",
    "        xb = xb.view(-1, 3, 32, 32)\n",
    "        xb = F.relu(self.conv1(xb))\n",
    "#         print(xb.shape)\n",
    "        xb = F.relu(self.conv2(xb))\n",
    "#         print(xb.shape)\n",
    "        xb = self.pool(F.relu(self.conv3(xb)))\n",
    "#         print(xb.shape)        \n",
    "        xb = xb.view(-1, 10*16*16)\n",
    "        xb = self.fc1(xb)\n",
    "#         print(xb.shape)\n",
    "        return xb\n",
    "    \n",
    "lr = 0.1"
   ]
  },
  {
   "cell_type": "markdown",
   "metadata": {
    "id": "XRq8fnl8nCxx",
    "colab_type": "text"
   },
   "source": [
    "## Optimization, Loss"
   ]
  },
  {
   "cell_type": "code",
   "execution_count": 0,
   "metadata": {
    "id": "oWklmXFfvuAx",
    "colab_type": "code",
    "colab": {}
   },
   "outputs": [],
   "source": [
    "model = cf10_cnn()\n",
    "opt = optim.SGD(model.parameters(), lr=lr, momentum=0.9)\n",
    "loss_func = F.cross_entropy"
   ]
  },
  {
   "cell_type": "markdown",
   "metadata": {
    "id": "eBxY5tDinF_x",
    "colab_type": "text"
   },
   "source": [
    "# Training"
   ]
  },
  {
   "cell_type": "markdown",
   "metadata": {
    "id": "3q0NzXpbwY01",
    "colab_type": "text"
   },
   "source": [
    "## DataLoader"
   ]
  },
  {
   "cell_type": "code",
   "execution_count": 0,
   "metadata": {
    "id": "8dG7fDLGlj-j",
    "colab_type": "code",
    "colab": {}
   },
   "outputs": [],
   "source": [
    "from torch.utils.data import TensorDataset\n",
    "from torch.utils.data import DataLoader\n",
    "\n",
    "bs = 128\n",
    "\n",
    "train_ds1 = cf10_dataset('data_batch_1', transform=ToTensor())\n",
    "train_ds2 = cf10_dataset('data_batch_2', transform=ToTensor())\n",
    "train_ds3 = cf10_dataset('data_batch_3', transform=ToTensor())\n",
    "train_ds4 = cf10_dataset('data_batch_4', transform=ToTensor())\n",
    "train_ds = ConcatDataset((train_ds1, train_ds2, train_ds3, train_ds4))\n",
    "valid_ds = cf10_dataset('test_batch', transform=ToTensor())"
   ]
  },
  {
   "cell_type": "code",
   "execution_count": 0,
   "metadata": {
    "id": "Z-46EYaDlPdz",
    "colab_type": "code",
    "colab": {}
   },
   "outputs": [],
   "source": [
    "def get_data(train_ds, valid_ds, bs):\n",
    "    return (\n",
    "        DataLoader(train_ds, batch_size=bs, shuffle=True),\n",
    "        DataLoader(valid_ds, batch_size=bs * 2),\n",
    "    )"
   ]
  },
  {
   "cell_type": "markdown",
   "metadata": {
    "id": "BS6jFfPE4LDt",
    "colab_type": "text"
   },
   "source": [
    "## fit() "
   ]
  },
  {
   "cell_type": "code",
   "execution_count": 0,
   "metadata": {
    "id": "9O8TmuSD3mgr",
    "colab_type": "code",
    "colab": {}
   },
   "outputs": [],
   "source": [
    "def loss_batch(model, loss_func, xb, yb, opt=None):\n",
    "    loss = loss_func(model(xb), yb)\n",
    "\n",
    "    if opt is not None:\n",
    "        loss.backward() ## backprop\n",
    "        opt.step() ## weight update\n",
    "        \n",
    "        # print statistics\n",
    "        opt.zero_grad() ## gradient initialize\n",
    "\n",
    "    return loss.item(), len(xb)"
   ]
  },
  {
   "cell_type": "code",
   "execution_count": 0,
   "metadata": {
    "id": "1D7H3yUVw9mn",
    "colab_type": "code",
    "colab": {}
   },
   "outputs": [],
   "source": [
    "#  fit runs the necessary operations to train our model and compute the training and validation losses for each epoch.\n",
    "import numpy as np\n",
    "\n",
    "def fit(epochs, model, loss_func, opt, train_dl, valid_dl):\n",
    "    for epoch in range(epochs):\n",
    "        model.train()\n",
    "        for i, (xb, yb) in enumerate(train_dl):\n",
    "            losses, num = loss_batch(model, loss_func, xb, yb, opt)\n",
    "            if i % 100 == 99:\n",
    "                print('[%d, %5d] loss: %.3f' %\n",
    "                     (epoch + 1, i+1, np.sum(losses)/num ))\n",
    "\n",
    "        model.eval()\n",
    "        with torch.no_grad():\n",
    "            losses, nums = zip(\n",
    "                *[loss_batch(model, loss_func, xb, yb) for xb, yb in valid_dl] ## *연산자에 대한 이해가 부족해....\n",
    "            )\n",
    "        val_loss = np.sum(np.multiply(losses, nums)) / np.sum(nums)\n",
    "\n",
    "        print(epoch, val_loss)"
   ]
  },
  {
   "cell_type": "markdown",
   "metadata": {
    "id": "I5Y6U1lwlxWd",
    "colab_type": "text"
   },
   "source": [
    "## GPU Setting"
   ]
  },
  {
   "cell_type": "code",
   "execution_count": 195,
   "metadata": {
    "id": "23zUuOdslzE3",
    "colab_type": "code",
    "colab": {
     "base_uri": "https://localhost:8080/",
     "height": 34.0
    },
    "outputId": "988eb80b-4a68-463c-fb8e-6e9294bbe1d2",
    "executionInfo": {
     "status": "ok",
     "timestamp": 1.552388946911E12,
     "user_tz": -540.0,
     "elapsed": 829.0,
     "user": {
      "displayName": "Haewon Yum",
      "photoUrl": "https://lh4.googleusercontent.com/-66WH9ykN6uo/AAAAAAAAAAI/AAAAAAAAItI/6gce5ZtJfvU/s64/photo.jpg",
      "userId": "05072194384345279458"
     }
    }
   },
   "outputs": [
    {
     "name": "stdout",
     "output_type": "stream",
     "text": [
      "True\n"
     ]
    }
   ],
   "source": [
    "print(torch.cuda.is_available())"
   ]
  },
  {
   "cell_type": "code",
   "execution_count": 0,
   "metadata": {
    "id": "9ZeGfWGVl4ir",
    "colab_type": "code",
    "colab": {}
   },
   "outputs": [],
   "source": [
    "dev = torch.device(\"cuda\") if torch.cuda.is_available() else torch.device(\"cpu\")"
   ]
  },
  {
   "cell_type": "code",
   "execution_count": 0,
   "metadata": {
    "id": "fMM8eQ3WmLPi",
    "colab_type": "code",
    "colab": {}
   },
   "outputs": [],
   "source": [
    "## Data to GPU\n",
    "def preprocess(x,y):\n",
    "    return x.view(-1,1,32,32).to(dev), y.to(dev)\n",
    "\n",
    "class WrappedDataLoader:\n",
    "    def __init__(self, dl, func):\n",
    "        self.dl = dl\n",
    "        self.func = func\n",
    "\n",
    "    def __len__(self):\n",
    "        return len(self.dl)\n",
    "\n",
    "    def __iter__(self):\n",
    "        batches = iter(self.dl)\n",
    "        for b in batches:\n",
    "            yield (self.func(*b))\n",
    "\n",
    "            \n",
    "# data to GPU\n",
    "train_dl, valid_dl = get_data(train_ds, valid_ds, bs)\n",
    "train_dl = WrappedDataLoader(train_dl, preprocess)\n",
    "valid_dl = WrappedDataLoader(valid_dl, preprocess)\n",
    "\n",
    "\n",
    "# model to GPU\n",
    "model.to(dev)\n"
   ]
  },
  {
   "cell_type": "markdown",
   "metadata": {
    "id": "DF_tujYfo0qK",
    "colab_type": "text"
   },
   "source": [
    "## Training"
   ]
  },
  {
   "cell_type": "code",
   "execution_count": 0,
   "metadata": {
    "id": "6ajrFjwExceE",
    "colab_type": "code",
    "outputId": "b9077534-cd08-4864-ef9f-b233f470097e",
    "executionInfo": {
     "status": "error",
     "timestamp": 1.55238042585E12,
     "user_tz": -540.0,
     "elapsed": 202033.0,
     "user": {
      "displayName": "Haewon Yum",
      "photoUrl": "https://lh4.googleusercontent.com/-66WH9ykN6uo/AAAAAAAAAAI/AAAAAAAAItI/6gce5ZtJfvU/s64/photo.jpg",
      "userId": "05072194384345279458"
     }
    },
    "colab": {
     "base_uri": "https://localhost:8080/",
     "height": 374.0
    }
   },
   "outputs": [
    {
     "name": "stdout",
     "output_type": "stream",
     "text": [
      "[1,   100] loss: 0.006\n",
      "[1,   200] loss: 0.006\n",
      "[1,   300] loss: 0.006\n",
      "0 2.304640351867676\n",
      "[2,   100] loss: 0.006\n",
      "[2,   200] loss: 0.006\n",
      "[2,   300] loss: 0.006\n",
      "1 2.30361224899292\n",
      "[3,   100] loss: 0.006\n",
      "[3,   200] loss: 0.006\n",
      "[3,   300] loss: 0.006\n",
      "2 2.303916249465942\n",
      "[4,   100] loss: 0.006\n",
      "[4,   200] loss: 0.006\n",
      "[4,   300] loss: 0.006\n",
      "3 2.3044961669921875\n",
      "[5,   100] loss: 0.006\n",
      "[5,   200] loss: 0.006\n",
      "[5,   300] loss: 0.006\n",
      "4 2.303637121963501\n",
      "[6,   100] loss: 0.006\n"
     ]
    }
   ],
   "source": [
    "# training\n",
    "epochs = 10\n",
    "# train_dl, valid_dl = get_data(train_ds, valid_ds, bs)\n",
    "fit(epochs, model, loss_func, opt, train_dl, valid_dl)"
   ]
  },
  {
   "cell_type": "code",
   "execution_count": 0,
   "metadata": {
    "id": "sW4AYtuvxzNm",
    "colab_type": "code",
    "colab": {}
   },
   "outputs": [],
   "source": [
    ""
   ]
  }
 ],
 "metadata": {
  "colab": {
   "name": "Pytorch_wk2_CIFAR10.ipynb",
   "version": "0.3.2",
   "provenance": [],
   "toc_visible": true
  },
  "kernelspec": {
   "name": "python3",
   "display_name": "Python 3"
  },
  "accelerator": "GPU"
 },
 "nbformat": 4,
 "nbformat_minor": 0
}
